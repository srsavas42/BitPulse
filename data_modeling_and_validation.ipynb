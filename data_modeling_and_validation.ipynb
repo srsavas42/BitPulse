{
  "nbformat": 4,
  "nbformat_minor": 0,
  "metadata": {
    "colab": {
      "provenance": [],
      "collapsed_sections": [
        "yp_LZGoK_94U"
      ]
    },
    "kernelspec": {
      "name": "python3",
      "display_name": "Python 3"
    },
    "language_info": {
      "name": "python"
    },
    "widgets": {
      "application/vnd.jupyter.widget-state+json": {
        "d2daee077ba24318871038980d035b57": {
          "model_module": "@jupyter-widgets/controls",
          "model_name": "HBoxModel",
          "model_module_version": "1.5.0",
          "state": {
            "_dom_classes": [],
            "_model_module": "@jupyter-widgets/controls",
            "_model_module_version": "1.5.0",
            "_model_name": "HBoxModel",
            "_view_count": null,
            "_view_module": "@jupyter-widgets/controls",
            "_view_module_version": "1.5.0",
            "_view_name": "HBoxView",
            "box_style": "",
            "children": [
              "IPY_MODEL_7fad1885925f415b915170652175dc95",
              "IPY_MODEL_f111ede058a24479837241d98fe07cb3",
              "IPY_MODEL_2c78adf9e4f648dabc680f968b3da1f1"
            ],
            "layout": "IPY_MODEL_ac2d91659e6a473c837332623707ffa4"
          }
        },
        "7fad1885925f415b915170652175dc95": {
          "model_module": "@jupyter-widgets/controls",
          "model_name": "HTMLModel",
          "model_module_version": "1.5.0",
          "state": {
            "_dom_classes": [],
            "_model_module": "@jupyter-widgets/controls",
            "_model_module_version": "1.5.0",
            "_model_name": "HTMLModel",
            "_view_count": null,
            "_view_module": "@jupyter-widgets/controls",
            "_view_module_version": "1.5.0",
            "_view_name": "HTMLView",
            "description": "",
            "description_tooltip": null,
            "layout": "IPY_MODEL_ada6d4a0456f45449ed7aaa8431cb7ce",
            "placeholder": "​",
            "style": "IPY_MODEL_469b942841fb472691616ba3b43e2018",
            "value": "Random Search Progress: 100%"
          }
        },
        "f111ede058a24479837241d98fe07cb3": {
          "model_module": "@jupyter-widgets/controls",
          "model_name": "FloatProgressModel",
          "model_module_version": "1.5.0",
          "state": {
            "_dom_classes": [],
            "_model_module": "@jupyter-widgets/controls",
            "_model_module_version": "1.5.0",
            "_model_name": "FloatProgressModel",
            "_view_count": null,
            "_view_module": "@jupyter-widgets/controls",
            "_view_module_version": "1.5.0",
            "_view_name": "ProgressView",
            "bar_style": "success",
            "description": "",
            "description_tooltip": null,
            "layout": "IPY_MODEL_24d4743635b14cee91732ae3c11de200",
            "max": 50,
            "min": 0,
            "orientation": "horizontal",
            "style": "IPY_MODEL_6910a543fc5f4735b15c9a63eda003a3",
            "value": 50
          }
        },
        "2c78adf9e4f648dabc680f968b3da1f1": {
          "model_module": "@jupyter-widgets/controls",
          "model_name": "HTMLModel",
          "model_module_version": "1.5.0",
          "state": {
            "_dom_classes": [],
            "_model_module": "@jupyter-widgets/controls",
            "_model_module_version": "1.5.0",
            "_model_name": "HTMLModel",
            "_view_count": null,
            "_view_module": "@jupyter-widgets/controls",
            "_view_module_version": "1.5.0",
            "_view_name": "HTMLView",
            "description": "",
            "description_tooltip": null,
            "layout": "IPY_MODEL_120ed285e4884cf6a7fea0b8670b722a",
            "placeholder": "​",
            "style": "IPY_MODEL_0f397c055c344a23ac7b62694b72da68",
            "value": " 50/50 [01:04&lt;00:00,  1.21s/it]"
          }
        },
        "ac2d91659e6a473c837332623707ffa4": {
          "model_module": "@jupyter-widgets/base",
          "model_name": "LayoutModel",
          "model_module_version": "1.2.0",
          "state": {
            "_model_module": "@jupyter-widgets/base",
            "_model_module_version": "1.2.0",
            "_model_name": "LayoutModel",
            "_view_count": null,
            "_view_module": "@jupyter-widgets/base",
            "_view_module_version": "1.2.0",
            "_view_name": "LayoutView",
            "align_content": null,
            "align_items": null,
            "align_self": null,
            "border": null,
            "bottom": null,
            "display": null,
            "flex": null,
            "flex_flow": null,
            "grid_area": null,
            "grid_auto_columns": null,
            "grid_auto_flow": null,
            "grid_auto_rows": null,
            "grid_column": null,
            "grid_gap": null,
            "grid_row": null,
            "grid_template_areas": null,
            "grid_template_columns": null,
            "grid_template_rows": null,
            "height": null,
            "justify_content": null,
            "justify_items": null,
            "left": null,
            "margin": null,
            "max_height": null,
            "max_width": null,
            "min_height": null,
            "min_width": null,
            "object_fit": null,
            "object_position": null,
            "order": null,
            "overflow": null,
            "overflow_x": null,
            "overflow_y": null,
            "padding": null,
            "right": null,
            "top": null,
            "visibility": null,
            "width": null
          }
        },
        "ada6d4a0456f45449ed7aaa8431cb7ce": {
          "model_module": "@jupyter-widgets/base",
          "model_name": "LayoutModel",
          "model_module_version": "1.2.0",
          "state": {
            "_model_module": "@jupyter-widgets/base",
            "_model_module_version": "1.2.0",
            "_model_name": "LayoutModel",
            "_view_count": null,
            "_view_module": "@jupyter-widgets/base",
            "_view_module_version": "1.2.0",
            "_view_name": "LayoutView",
            "align_content": null,
            "align_items": null,
            "align_self": null,
            "border": null,
            "bottom": null,
            "display": null,
            "flex": null,
            "flex_flow": null,
            "grid_area": null,
            "grid_auto_columns": null,
            "grid_auto_flow": null,
            "grid_auto_rows": null,
            "grid_column": null,
            "grid_gap": null,
            "grid_row": null,
            "grid_template_areas": null,
            "grid_template_columns": null,
            "grid_template_rows": null,
            "height": null,
            "justify_content": null,
            "justify_items": null,
            "left": null,
            "margin": null,
            "max_height": null,
            "max_width": null,
            "min_height": null,
            "min_width": null,
            "object_fit": null,
            "object_position": null,
            "order": null,
            "overflow": null,
            "overflow_x": null,
            "overflow_y": null,
            "padding": null,
            "right": null,
            "top": null,
            "visibility": null,
            "width": null
          }
        },
        "469b942841fb472691616ba3b43e2018": {
          "model_module": "@jupyter-widgets/controls",
          "model_name": "DescriptionStyleModel",
          "model_module_version": "1.5.0",
          "state": {
            "_model_module": "@jupyter-widgets/controls",
            "_model_module_version": "1.5.0",
            "_model_name": "DescriptionStyleModel",
            "_view_count": null,
            "_view_module": "@jupyter-widgets/base",
            "_view_module_version": "1.2.0",
            "_view_name": "StyleView",
            "description_width": ""
          }
        },
        "24d4743635b14cee91732ae3c11de200": {
          "model_module": "@jupyter-widgets/base",
          "model_name": "LayoutModel",
          "model_module_version": "1.2.0",
          "state": {
            "_model_module": "@jupyter-widgets/base",
            "_model_module_version": "1.2.0",
            "_model_name": "LayoutModel",
            "_view_count": null,
            "_view_module": "@jupyter-widgets/base",
            "_view_module_version": "1.2.0",
            "_view_name": "LayoutView",
            "align_content": null,
            "align_items": null,
            "align_self": null,
            "border": null,
            "bottom": null,
            "display": null,
            "flex": null,
            "flex_flow": null,
            "grid_area": null,
            "grid_auto_columns": null,
            "grid_auto_flow": null,
            "grid_auto_rows": null,
            "grid_column": null,
            "grid_gap": null,
            "grid_row": null,
            "grid_template_areas": null,
            "grid_template_columns": null,
            "grid_template_rows": null,
            "height": null,
            "justify_content": null,
            "justify_items": null,
            "left": null,
            "margin": null,
            "max_height": null,
            "max_width": null,
            "min_height": null,
            "min_width": null,
            "object_fit": null,
            "object_position": null,
            "order": null,
            "overflow": null,
            "overflow_x": null,
            "overflow_y": null,
            "padding": null,
            "right": null,
            "top": null,
            "visibility": null,
            "width": null
          }
        },
        "6910a543fc5f4735b15c9a63eda003a3": {
          "model_module": "@jupyter-widgets/controls",
          "model_name": "ProgressStyleModel",
          "model_module_version": "1.5.0",
          "state": {
            "_model_module": "@jupyter-widgets/controls",
            "_model_module_version": "1.5.0",
            "_model_name": "ProgressStyleModel",
            "_view_count": null,
            "_view_module": "@jupyter-widgets/base",
            "_view_module_version": "1.2.0",
            "_view_name": "StyleView",
            "bar_color": null,
            "description_width": ""
          }
        },
        "120ed285e4884cf6a7fea0b8670b722a": {
          "model_module": "@jupyter-widgets/base",
          "model_name": "LayoutModel",
          "model_module_version": "1.2.0",
          "state": {
            "_model_module": "@jupyter-widgets/base",
            "_model_module_version": "1.2.0",
            "_model_name": "LayoutModel",
            "_view_count": null,
            "_view_module": "@jupyter-widgets/base",
            "_view_module_version": "1.2.0",
            "_view_name": "LayoutView",
            "align_content": null,
            "align_items": null,
            "align_self": null,
            "border": null,
            "bottom": null,
            "display": null,
            "flex": null,
            "flex_flow": null,
            "grid_area": null,
            "grid_auto_columns": null,
            "grid_auto_flow": null,
            "grid_auto_rows": null,
            "grid_column": null,
            "grid_gap": null,
            "grid_row": null,
            "grid_template_areas": null,
            "grid_template_columns": null,
            "grid_template_rows": null,
            "height": null,
            "justify_content": null,
            "justify_items": null,
            "left": null,
            "margin": null,
            "max_height": null,
            "max_width": null,
            "min_height": null,
            "min_width": null,
            "object_fit": null,
            "object_position": null,
            "order": null,
            "overflow": null,
            "overflow_x": null,
            "overflow_y": null,
            "padding": null,
            "right": null,
            "top": null,
            "visibility": null,
            "width": null
          }
        },
        "0f397c055c344a23ac7b62694b72da68": {
          "model_module": "@jupyter-widgets/controls",
          "model_name": "DescriptionStyleModel",
          "model_module_version": "1.5.0",
          "state": {
            "_model_module": "@jupyter-widgets/controls",
            "_model_module_version": "1.5.0",
            "_model_name": "DescriptionStyleModel",
            "_view_count": null,
            "_view_module": "@jupyter-widgets/base",
            "_view_module_version": "1.2.0",
            "_view_name": "StyleView",
            "description_width": ""
          }
        }
      }
    }
  },
  "cells": [
    {
      "cell_type": "markdown",
      "source": [
        "## Imports"
      ],
      "metadata": {
        "id": "MA1JRGtRBjrs"
      }
    },
    {
      "cell_type": "code",
      "execution_count": 1,
      "metadata": {
        "colab": {
          "base_uri": "https://localhost:8080/"
        },
        "id": "m1bVrsnVXmWJ",
        "outputId": "1afa7901-a19a-4013-e841-2e98e4a9054e"
      },
      "outputs": [
        {
          "output_type": "stream",
          "name": "stdout",
          "text": [
            "Requirement already satisfied: xgboost in /usr/local/lib/python3.10/dist-packages (2.1.2)\n",
            "Collecting arch\n",
            "  Downloading arch-7.2.0-cp310-cp310-manylinux_2_17_x86_64.manylinux2014_x86_64.whl.metadata (13 kB)\n",
            "Requirement already satisfied: numpy in /usr/local/lib/python3.10/dist-packages (from xgboost) (1.26.4)\n",
            "Requirement already satisfied: nvidia-nccl-cu12 in /usr/local/lib/python3.10/dist-packages (from xgboost) (2.23.4)\n",
            "Requirement already satisfied: scipy in /usr/local/lib/python3.10/dist-packages (from xgboost) (1.13.1)\n",
            "Requirement already satisfied: pandas>=1.4 in /usr/local/lib/python3.10/dist-packages (from arch) (2.2.2)\n",
            "Requirement already satisfied: statsmodels>=0.12 in /usr/local/lib/python3.10/dist-packages (from arch) (0.14.4)\n",
            "Requirement already satisfied: python-dateutil>=2.8.2 in /usr/local/lib/python3.10/dist-packages (from pandas>=1.4->arch) (2.8.2)\n",
            "Requirement already satisfied: pytz>=2020.1 in /usr/local/lib/python3.10/dist-packages (from pandas>=1.4->arch) (2024.2)\n",
            "Requirement already satisfied: tzdata>=2022.7 in /usr/local/lib/python3.10/dist-packages (from pandas>=1.4->arch) (2024.2)\n",
            "Requirement already satisfied: patsy>=0.5.6 in /usr/local/lib/python3.10/dist-packages (from statsmodels>=0.12->arch) (1.0.1)\n",
            "Requirement already satisfied: packaging>=21.3 in /usr/local/lib/python3.10/dist-packages (from statsmodels>=0.12->arch) (24.2)\n",
            "Requirement already satisfied: six>=1.5 in /usr/local/lib/python3.10/dist-packages (from python-dateutil>=2.8.2->pandas>=1.4->arch) (1.16.0)\n",
            "Downloading arch-7.2.0-cp310-cp310-manylinux_2_17_x86_64.manylinux2014_x86_64.whl (985 kB)\n",
            "\u001b[2K   \u001b[90m━━━━━━━━━━━━━━━━━━━━━━━━━━━━━━━━━━━━━━━━\u001b[0m \u001b[32m985.1/985.1 kB\u001b[0m \u001b[31m11.0 MB/s\u001b[0m eta \u001b[36m0:00:00\u001b[0m\n",
            "\u001b[?25hInstalling collected packages: arch\n",
            "Successfully installed arch-7.2.0\n"
          ]
        }
      ],
      "source": [
        "%pip install xgboost arch"
      ]
    },
    {
      "cell_type": "code",
      "source": [
        "import pandas as pd\n",
        "import numpy as np\n",
        "import matplotlib.pyplot as plt\n",
        "from arch import arch_model\n",
        "from sklearn.model_selection import TimeSeriesSplit\n",
        "from sklearn.metrics import mean_squared_error, r2_score\n",
        "from statsmodels.tsa.arima.model import ARIMA\n",
        "import xgboost as xgb\n",
        "from typing import Dict, List, Tuple\n",
        "from tqdm.notebook import tqdm\n",
        "import random"
      ],
      "metadata": {
        "id": "AR8dKpHkYJ5Q"
      },
      "execution_count": 2,
      "outputs": []
    },
    {
      "cell_type": "markdown",
      "source": [
        "## Data preparation functions"
      ],
      "metadata": {
        "id": "ZGozF5dpB01E"
      }
    },
    {
      "cell_type": "markdown",
      "source": [
        "We engineer a bunch of features related to sentiment, so the fact that the model *still* doesn't perform better when trained on sentiment data damns the hypothesis that Reddit discussions are predictive of price.\n",
        "\n",
        "Since we don't have sentiment data for every date, we add a column specifying whether a feature is available or not (rather than filling neutral value for those dates, or something). The hope is that the model learns what this feature means.\n",
        "\n",
        "We train two models: one *only* on pricing data, and one on both pricing and sentiment data. We find that the two models have identical performance to 4 decimal places."
      ],
      "metadata": {
        "id": "8xv8vsmX-Kbq"
      }
    },
    {
      "cell_type": "code",
      "source": [
        "def identify_continuous_chunks(df, max_gap_days=5):\n",
        "    \"\"\"\n",
        "    Split DataFrame into continuous chunks where gaps don't exceed max_gap_days.\n",
        "    Returns list of DataFrames.\n",
        "    \"\"\"\n",
        "    df = df.copy()\n",
        "    df['Date'] = pd.to_datetime(df['Date'])\n",
        "    df['days_between'] = df['Date'].diff().dt.days\n",
        "\n",
        "    # Find break points where gaps exceed max_gap_days\n",
        "    break_points = df[df['days_between'] > max_gap_days].index.tolist()\n",
        "\n",
        "    # Split into chunks\n",
        "    chunks = []\n",
        "    start_idx = 0\n",
        "\n",
        "    for end_idx in break_points:\n",
        "        chunk = df.iloc[start_idx:end_idx].copy()\n",
        "        if len(chunk) > 30:  # Only keep chunks with enough data\n",
        "            chunks.append(chunk)\n",
        "        start_idx = end_idx\n",
        "\n",
        "    # Add the last chunk\n",
        "    final_chunk = df.iloc[start_idx:].copy()\n",
        "    if len(final_chunk) > 30:\n",
        "        chunks.append(final_chunk)\n",
        "\n",
        "    print(f\"Split data into {len(chunks)} continuous chunks:\")\n",
        "    for i, chunk in enumerate(chunks):\n",
        "        print(f\"Chunk {i}: {chunk['Date'].min()} to {chunk['Date'].max()}, {len(chunk)} records\")\n",
        "\n",
        "    return chunks\n",
        "\n",
        "def calculate_forward_volatility(returns, window=7):\n",
        "    \"\"\"\n",
        "    Calculate true forward-looking volatility\n",
        "    Returns the volatility of the NEXT window days\n",
        "    \"\"\"\n",
        "    # -window shifts the data BACKWARD\n",
        "    return returns.shift(-window).rolling(window).std()\n",
        "\n",
        "def calculate_historical_volatility(returns, window=7):\n",
        "    \"\"\"\n",
        "    Calculate historical volatility using strictly past data\n",
        "    Returns the volatility of the PAST window days\n",
        "    \"\"\"\n",
        "    return returns.rolling(window).std()\n",
        "\n",
        "def prepare_features(df, target_window=14, feature_window=14):\n",
        "    \"\"\"\n",
        "    Prepare features using strictly past data\n",
        "    \"\"\"\n",
        "    feature_df = pd.DataFrame(index=df.index)\n",
        "\n",
        "    # Calculate forward volatility first (our target)\n",
        "    for asset in ['Bitcoin', 'BNB', 'Doge', 'Ethereum']:\n",
        "        returns_col = f'{asset}_Return'\n",
        "        # Target: Volatility of the NEXT 7 days\n",
        "        feature_df[f'{asset}_ForwardVol'] = calculate_forward_volatility(df[returns_col], window=7)\n",
        "\n",
        "        # Feature: Volatility of the PAST 7 days\n",
        "        feature_df[f'{asset}_HistoricalVol'] = calculate_historical_volatility(df[returns_col], window=7)\n",
        "        feature_df[f'{asset}_AbsReturn'] = np.abs(df[returns_col])\n",
        "        feature_df[f'{asset}_HistoricalMeanReturn'] = df[returns_col].rolling(feature_window, min_periods=feature_window).mean()\n",
        "        feature_df[f'{asset}_HistoricalMaxReturn'] = df[returns_col].rolling(feature_window, min_periods=feature_window).max()\n",
        "        feature_df[f'{asset}_HistoricalMinReturn'] = df[returns_col].rolling(feature_window, min_periods=feature_window).min()\n",
        "\n",
        "        # Volume features\n",
        "        vol_col = f'{asset}_Vol'\n",
        "        feature_df[f'{asset}_HistoricalVolumeAvg'] = df[vol_col].rolling(feature_window, min_periods=feature_window).mean()\n",
        "        feature_df[f'{asset}_HistoricalVolumeSt'] = df[vol_col].rolling(feature_window, min_periods=feature_window).std()\n",
        "\n",
        "    # Add sentiment features\n",
        "    sentiment_features = [\n",
        "        'weighted_conviction', 'weighted_sentiment',\n",
        "        'normalized_weighted_conviction', 'normalized_weighted_sentiment',\n",
        "        'conviction_avg', 'conviction_std',\n",
        "        'weighted_conviction_avg', 'weighted_conviction_std',\n",
        "        'weighted_sentiment_avg', 'weighted_sentiment_std'\n",
        "    ]\n",
        "\n",
        "    # Engineer and add an availability feature for XGBoost\n",
        "    for feat in sentiment_features:\n",
        "        if feat in df.columns:\n",
        "            feature_df[feat] = df[feat]\n",
        "            feature_df[f'{feat}_available'] = (~df[feat].isna()).astype(int)\n",
        "            feature_df[feat] = df[feat].fillna(0)\n",
        "\n",
        "    # Drop rows where we don't have enough history or future data for target\n",
        "    feature_df = feature_df.dropna()\n",
        "\n",
        "    # Drop last 'target_window' rows as we don't have future data to calculate target\n",
        "    feature_df = feature_df.iloc[:-target_window]\n",
        "\n",
        "    return feature_df"
      ],
      "metadata": {
        "id": "Vb-XnpxrYOVR"
      },
      "execution_count": 3,
      "outputs": []
    },
    {
      "cell_type": "markdown",
      "source": [
        "## XGBoost training function"
      ],
      "metadata": {
        "id": "az1NX9MgCZsH"
      }
    },
    {
      "cell_type": "markdown",
      "source": [
        "64% train + 18% val + 20% test"
      ],
      "metadata": {
        "id": "5tCIWxHjAexN"
      }
    },
    {
      "cell_type": "code",
      "source": [
        "def train_and_evaluate_chunk(xgb_config, chunk_df, target_asset='Bitcoin', test_size=0.2, val_size=0.2):\n",
        "    \"\"\"Train and evaluate models on a single continuous chunk of data with validation split\"\"\"\n",
        "    window = 5\n",
        "    feature_df = prepare_features(chunk_df, target_window=window, feature_window=window)\n",
        "    if feature_df is None or len(feature_df) < 50:  # Need minimum amount of data\n",
        "        return None\n",
        "\n",
        "    target_col = f'{target_asset}_ForwardVol'\n",
        "    feature_cols = [col for col in feature_df.columns\n",
        "                   if not col.endswith('_ForwardVol')]\n",
        "\n",
        "    # Split into train+val and test\n",
        "    test_split_idx = int(len(feature_df) * (1 - test_size))\n",
        "    train_val_df = feature_df.iloc[:test_split_idx]\n",
        "    test_df = feature_df.iloc[test_split_idx:]\n",
        "\n",
        "    # Further split train into train and validation\n",
        "    train_size = int(len(train_val_df) * (1 - val_size))\n",
        "    train_df = train_val_df.iloc[:train_size]\n",
        "    val_df = train_val_df.iloc[train_size:]\n",
        "\n",
        "    if len(train_df) < 30 or len(val_df) < 10 or len(test_df) < 10:\n",
        "        return None\n",
        "\n",
        "    # Separate features for base model (no sentiment)\n",
        "    base_cols = [col for col in feature_cols\n",
        "                if not any(x in col.lower() for x in ['sentiment', 'conviction'])]\n",
        "\n",
        "    # Train base model\n",
        "    base_model = xgb.XGBRegressor(**xgb_config)\n",
        "    base_model.fit(train_df[base_cols], train_df[target_col])\n",
        "\n",
        "    # Train enhanced model\n",
        "    enhanced_model = xgb.XGBRegressor(**xgb_config)\n",
        "    enhanced_model.fit(train_df[feature_cols], train_df[target_col])\n",
        "\n",
        "    # Final evaluation on test set\n",
        "    base_pred = base_model.predict(test_df[base_cols])\n",
        "    enhanced_pred = enhanced_model.predict(test_df[feature_cols])\n",
        "\n",
        "    results = {\n",
        "        'period': f\"{chunk_df['Date'].min()} to {chunk_df['Date'].max()}\",\n",
        "        'n_samples': len(chunk_df),\n",
        "        'training_samples': len(train_df),\n",
        "        'test_samples': len(test_df),\n",
        "        'base_rmse': np.sqrt(mean_squared_error(test_df[target_col], base_pred)),\n",
        "        'enhanced_rmse': np.sqrt(mean_squared_error(test_df[target_col], enhanced_pred)),\n",
        "        'base_r2': r2_score(test_df[target_col], base_pred),\n",
        "        'enhanced_r2': r2_score(test_df[target_col], enhanced_pred)\n",
        "    }\n",
        "\n",
        "    naive_pred = test_df[f'{target_asset}_HistoricalVol']\n",
        "    results['naive_rmse'] = np.sqrt(mean_squared_error(test_df[target_col], naive_pred))\n",
        "    results['naive_r2'] = r2_score(test_df[target_col], naive_pred)\n",
        "\n",
        "    return results, base_model, enhanced_model, test_df"
      ],
      "metadata": {
        "id": "gkaqPDBPCYux"
      },
      "execution_count": 4,
      "outputs": []
    },
    {
      "cell_type": "markdown",
      "source": [
        "## XGBoost hyperparameter tuning"
      ],
      "metadata": {
        "id": "UDr0PLlqACyB"
      }
    },
    {
      "cell_type": "code",
      "source": [
        "def random_search_xgboost(chunks: List[pd.DataFrame], n_trials: int = 50, param_ranges: Dict = None) -> Dict:\n",
        "    \"\"\"\n",
        "    Perform random search using validation set for hyperparameter optimization.\n",
        "    \"\"\"\n",
        "    if param_ranges is None:\n",
        "        param_ranges = {\n",
        "            \"n_estimators\": (10, 500),\n",
        "            \"learning_rate\": (0.01, 0.3),\n",
        "            \"max_depth\": (2, 10),\n",
        "            \"min_child_weight\": (1, 10),\n",
        "            \"subsample\": (0.5, 1.0),\n",
        "            \"colsample_bytree\": (0.5, 1.0)\n",
        "        }\n",
        "\n",
        "    best_rmse = float('inf')\n",
        "    best_config = None\n",
        "\n",
        "    for trial in tqdm(range(n_trials), desc=\"Random Search Progress\"):\n",
        "        config = {\n",
        "            \"n_estimators\": random.randint(*param_ranges[\"n_estimators\"]),\n",
        "            \"learning_rate\": random.uniform(*param_ranges[\"learning_rate\"]),\n",
        "            \"max_depth\": random.randint(*param_ranges[\"max_depth\"]),\n",
        "            \"min_child_weight\": random.randint(*param_ranges[\"min_child_weight\"]),\n",
        "            \"subsample\": random.uniform(*param_ranges[\"subsample\"]),\n",
        "            \"colsample_bytree\": random.uniform(*param_ranges[\"colsample_bytree\"]),\n",
        "            \"random_state\": 42\n",
        "        }\n",
        "\n",
        "        # Evaluate on validation sets across all chunks\n",
        "        val_rmses = []\n",
        "        for chunk in chunks:\n",
        "            window = 5\n",
        "            feature_df = prepare_features(chunk, target_window=window, feature_window=window)\n",
        "            if feature_df is None or len(feature_df) < 50:\n",
        "                continue\n",
        "\n",
        "            # Split into train+val and test (we'll only use train+val for tuning)\n",
        "            test_size = 0.2\n",
        "            val_size = 0.2\n",
        "            test_split_idx = int(len(feature_df) * (1 - test_size))\n",
        "            train_val_df = feature_df.iloc[:test_split_idx]\n",
        "\n",
        "            # Split train_val into train and validation\n",
        "            train_size = int(len(train_val_df) * (1 - val_size))\n",
        "            train_df = train_val_df.iloc[:train_size]\n",
        "            val_df = train_val_df.iloc[train_size:]\n",
        "\n",
        "            if len(train_df) < 30 or len(val_df) < 10:\n",
        "                continue\n",
        "\n",
        "            # Train and evaluate on validation set\n",
        "            target_col = 'Bitcoin_ForwardVol'\n",
        "            base_cols = [col for col in train_df.columns\n",
        "                        if not col.endswith('_ForwardVol') and\n",
        "                        not any(x in col.lower() for x in ['sentiment', 'conviction'])]\n",
        "\n",
        "            model = xgb.XGBRegressor(**config)\n",
        "            model.fit(train_df[base_cols], train_df[target_col])\n",
        "            val_pred = model.predict(val_df[base_cols])\n",
        "            val_rmse = np.sqrt(mean_squared_error(val_df[target_col], val_pred))\n",
        "            val_rmses.append(val_rmse)\n",
        "\n",
        "        if val_rmses:\n",
        "            avg_val_rmse = np.mean(val_rmses)\n",
        "            if avg_val_rmse < best_rmse:\n",
        "                best_rmse = avg_val_rmse\n",
        "                best_config = config\n",
        "                print(f\"\\nNew best configuration found!\")\n",
        "                print(f\"Average Validation RMSE: {best_rmse:.4f}\")\n",
        "                print(\"Configuration:\")\n",
        "                for param, value in best_config.items():\n",
        "                    print(f\"{param}: {value}\")\n",
        "\n",
        "    return best_config"
      ],
      "metadata": {
        "id": "H-4rKO-cftgO"
      },
      "execution_count": 5,
      "outputs": []
    },
    {
      "cell_type": "markdown",
      "source": [
        "## Analysis of gaps in time data"
      ],
      "metadata": {
        "id": "yp_LZGoK_94U"
      }
    },
    {
      "cell_type": "markdown",
      "source": [
        "Clearly, the data has jumps in between. This is bad! So we separate the data into three chunks and train *separate* XGBoost models (with the same hyperparameters) for each."
      ],
      "metadata": {
        "id": "q-AfNIST6gFu"
      }
    },
    {
      "cell_type": "code",
      "source": [
        "# Calculate days between consecutive dates\n",
        "df = pd.read_csv('combined_data.csv')\n",
        "df['Date'] = pd.to_datetime(df['Date'])  # ordering dates in CSV\n",
        "df['days_between'] = df['Date'].diff().dt.days\n",
        "\n",
        "# Plot dates vs index to see gaps\n",
        "plt.figure(figsize=(15, 5))\n",
        "plt.plot(df['Date'], '.')\n",
        "plt.title('Dates vs Index (gaps show missing dates)')\n",
        "plt.xticks(rotation=45)\n",
        "plt.tight_layout()\n",
        "plt.show()\n",
        "\n",
        "# Show any gaps larger than 1 day\n",
        "gaps = df[df['days_between'] > 1]\n",
        "if len(gaps) > 0:\n",
        "    print(\"\\nGaps in data (intervals > 1 day):\")\n",
        "    for idx, row in gaps.iterrows():\n",
        "        print(f\"Gap of {row['days_between']} days before {row['Date'].strftime('%Y-%m-%d')}\")"
      ],
      "metadata": {
        "colab": {
          "base_uri": "https://localhost:8080/",
          "height": 420
        },
        "id": "aeh9yrvTc5Zr",
        "outputId": "2d102b83-3c75-46cb-820e-493c4468ff04"
      },
      "execution_count": 10,
      "outputs": [
        {
          "output_type": "display_data",
          "data": {
            "text/plain": [
              "<Figure size 1500x500 with 1 Axes>"
            ],
            "image/png": "[encoded data removed]"
          },
          "metadata": {}
        },
        {
          "output_type": "stream",
          "name": "stdout",
          "text": [
            "\n",
            "Gaps in data (intervals > 1 day):\n",
            "Gap of 46.0 days before 2019-05-03\n",
            "Gap of 4.0 days before 2019-08-10\n",
            "Gap of 2.0 days before 2019-08-13\n",
            "Gap of 19.0 days before 2019-09-04\n",
            "Gap of 3.0 days before 2022-03-06\n",
            "Gap of 2.0 days before 2022-07-05\n",
            "Gap of 2.0 days before 2022-11-20\n",
            "Gap of 210.0 days before 2024-03-07\n",
            "Gap of 4.0 days before 2024-03-19\n"
          ]
        }
      ]
    },
    {
      "cell_type": "markdown",
      "source": [
        "## Running XGBoost"
      ],
      "metadata": {
        "id": "gU67MqDVCNBy"
      }
    },
    {
      "cell_type": "markdown",
      "source": [
        "Notice that the performance of the base model is identical to the performance of the model enhanced with sentiment data. This suggests that XGBoost is learning to completely ignore sentiment data. This is to be expected: as Abdullah's data visualization points out, Reddit crypto data is overwhelmingly positive, so there's little signal there.\n",
        "\n",
        "The naive prediction is a baseline: it's the mean of the test data historical volatility. XGBoost does beat this baseline."
      ],
      "metadata": {
        "id": "bdXqRj3Rox_0"
      }
    },
    {
      "cell_type": "code",
      "source": [
        "# Load data\n",
        "df = pd.read_csv('combined_data.csv')\n",
        "df['Date'] = pd.to_datetime(df['Date'])  # ordering dates in CSV\n",
        "\n",
        "# Split into continuous chunks\n",
        "chunks = identify_continuous_chunks(df, max_gap_days=5)\n",
        "\n",
        "best_config = random_search_xgboost(chunks, n_trials=50)\n",
        "XGBConfig = best_config\n",
        "\n",
        "# Train and evaluate on each chunk\n",
        "all_results = []\n",
        "for chunk in chunks:\n",
        "    results, base_model, enhanced_model, test_df = train_and_evaluate_chunk(XGBConfig, chunk)\n",
        "    if results is not None:\n",
        "        all_results.append(results)\n",
        "        print(f\"\\nPeriod: {results['period']}\")\n",
        "        print(f\"Samples: {results['n_samples']} (Train: {results['training_samples']}, Test: {results['test_samples']})\")\n",
        "        print(f\"Test Mean RMSE: {results['naive_rmse']:.4f}\")\n",
        "        print(f\"Base RMSE: {results['base_rmse']:.4f}\")\n",
        "        print(f\"Enhanced RMSE: {results['enhanced_rmse']:.4f}\")\n",
        "        print(f\"Test Mean R²: {results['naive_r2']:.4f}\")\n",
        "        print(f\"Base R²: {results['base_r2']:.4f}\")\n",
        "        print(f\"Enhanced R²: {results['enhanced_r2']:.4f}\")"
      ],
      "metadata": {
        "colab": {
          "base_uri": "https://localhost:8080/",
          "height": 969,
          "referenced_widgets": [
            "d2daee077ba24318871038980d035b57",
            "7fad1885925f415b915170652175dc95",
            "f111ede058a24479837241d98fe07cb3",
            "2c78adf9e4f648dabc680f968b3da1f1",
            "ac2d91659e6a473c837332623707ffa4",
            "ada6d4a0456f45449ed7aaa8431cb7ce",
            "469b942841fb472691616ba3b43e2018",
            "24d4743635b14cee91732ae3c11de200",
            "6910a543fc5f4735b15c9a63eda003a3",
            "120ed285e4884cf6a7fea0b8670b722a",
            "0f397c055c344a23ac7b62694b72da68"
          ]
        },
        "id": "9XCg7gTrYUOx",
        "outputId": "1d5e5fd3-a4ec-4a19-80c1-c66ecd9b9384"
      },
      "execution_count": 11,
      "outputs": [
        {
          "output_type": "stream",
          "name": "stdout",
          "text": [
            "Split data into 3 continuous chunks:\n",
            "Chunk 0: 2019-05-03 00:00:00 to 2019-08-16 00:00:00, 102 records\n",
            "Chunk 1: 2019-09-04 00:00:00 to 2023-08-10 00:00:00, 1433 records\n",
            "Chunk 2: 2024-03-07 00:00:00 to 2024-11-14 00:00:00, 250 records\n"
          ]
        },
        {
          "output_type": "display_data",
          "data": {
            "text/plain": [
              "Random Search Progress:   0%|          | 0/50 [00:00<?, ?it/s]"
            ],
            "application/vnd.jupyter.widget-view+json": {
              "version_major": 2,
              "version_minor": 0,
              "model_id": "d2daee077ba24318871038980d035b57"
            }
          },
          "metadata": {}
        },
        {
          "output_type": "stream",
          "name": "stdout",
          "text": [
            "\n",
            "New best configuration found!\n",
            "Average Validation RMSE: 0.0148\n",
            "Configuration:\n",
            "n_estimators: 372\n",
            "learning_rate: 0.2367255677249495\n",
            "max_depth: 7\n",
            "min_child_weight: 3\n",
            "subsample: 0.661123440342605\n",
            "colsample_bytree: 0.8982470555858705\n",
            "random_state: 42\n",
            "\n",
            "New best configuration found!\n",
            "Average Validation RMSE: 0.0147\n",
            "Configuration:\n",
            "n_estimators: 417\n",
            "learning_rate: 0.09460742861521948\n",
            "max_depth: 9\n",
            "min_child_weight: 1\n",
            "subsample: 0.9556431030366573\n",
            "colsample_bytree: 0.5178785457560915\n",
            "random_state: 42\n",
            "\n",
            "Period: 2019-05-03 00:00:00 to 2019-08-16 00:00:00\n",
            "Samples: 102 (Train: 53, Test: 17)\n",
            "Test Mean RMSE: 0.0279\n",
            "Base RMSE: 0.0093\n",
            "Enhanced RMSE: 0.0093\n",
            "Test Mean R²: -2.8428\n",
            "Base R²: 0.5750\n",
            "Enhanced R²: 0.5750\n",
            "\n",
            "Period: 2019-09-04 00:00:00 to 2023-08-10 00:00:00\n",
            "Samples: 1433 (Train: 905, Test: 283)\n",
            "Test Mean RMSE: 0.0129\n",
            "Base RMSE: 0.0150\n",
            "Enhanced RMSE: 0.0150\n",
            "Test Mean R²: -0.3668\n",
            "Base R²: -0.8413\n",
            "Enhanced R²: -0.8413\n",
            "\n",
            "Period: 2024-03-07 00:00:00 to 2024-11-14 00:00:00\n",
            "Samples: 250 (Train: 148, Test: 47)\n",
            "Test Mean RMSE: 0.0081\n",
            "Base RMSE: 0.0120\n",
            "Enhanced RMSE: 0.0120\n",
            "Test Mean R²: -0.1037\n",
            "Base R²: -1.4263\n",
            "Enhanced R²: -1.4263\n"
          ]
        }
      ]
    },
    {
      "cell_type": "markdown",
      "source": [
        "## Training ARIMA"
      ],
      "metadata": {
        "id": "ozeqSBMmFK7b"
      }
    },
    {
      "cell_type": "markdown",
      "source": [
        "Compare against naive predictions: last known historical volatility."
      ],
      "metadata": {
        "id": "JkbQyievFU3w"
      }
    },
    {
      "cell_type": "code",
      "source": [
        "def calculate_forward_volatility(returns, window=7):\n",
        "    \"\"\"\n",
        "    Calculate true forward-looking volatility - the volatility of the NEXT window days\n",
        "    \"\"\"\n",
        "    forward_returns = returns.shift(-1)  # Shift returns to avoid lookahead\n",
        "    return forward_returns.rolling(window).std().shift(-window+1)\n",
        "\n",
        "def calculate_historical_volatility(returns, window=7):\n",
        "    \"\"\"\n",
        "    Calculate historical volatility using strictly past data\n",
        "    \"\"\"\n",
        "    return returns.rolling(window).std()\n",
        "\n",
        "def train_evaluate_arima_chunk(chunk_df, target_asset='Bitcoin', test_size=0.2, window=7):\n",
        "    \"\"\"Train and evaluate ARIMA model on a single continuous chunk of data\"\"\"\n",
        "\n",
        "    # Create target and historical volatility\n",
        "    returns_col = f'{target_asset}_Return'\n",
        "    chunk_df = chunk_df.copy()\n",
        "\n",
        "    # Calculate true forward volatility (what we want to predict)\n",
        "    chunk_df['forward_vol'] = calculate_forward_volatility(chunk_df[returns_col], window)\n",
        "\n",
        "    # Calculate historical volatility (for naive baseline)\n",
        "    chunk_df['historical_vol'] = calculate_historical_volatility(chunk_df[returns_col], window)\n",
        "\n",
        "    # Remove NaN values\n",
        "    chunk_df = chunk_df.dropna(subset=['forward_vol', 'historical_vol'])\n",
        "\n",
        "    if len(chunk_df) < 50:  # Need minimum amount of data\n",
        "        return None\n",
        "\n",
        "    # Split ensuring no lookahead bias\n",
        "    train_size = int(len(chunk_df) * (1 - test_size))\n",
        "    train_df = chunk_df.iloc[:train_size]\n",
        "    test_df = chunk_df.iloc[train_size:]\n",
        "\n",
        "    if len(train_df) < 30 or len(test_df) < 10:\n",
        "        return None\n",
        "\n",
        "    # Function to find best ARIMA parameters\n",
        "    def find_best_arima_params(train_series):\n",
        "        best_aic = float('inf')\n",
        "        best_params = None\n",
        "\n",
        "        # Grid search over parameters\n",
        "        p_values = range(0, 3)\n",
        "        d_values = range(0, 2)\n",
        "        q_values = range(0, 3)\n",
        "\n",
        "        for p in p_values:\n",
        "            for d in d_values:\n",
        "                for q in q_values:\n",
        "                    try:\n",
        "                        model = ARIMA(train_series, order=(p,d,q))\n",
        "                        results = model.fit()\n",
        "                        if results.aic < best_aic:\n",
        "                            best_aic = results.aic\n",
        "                            best_params = (p,d,q)\n",
        "                    except:\n",
        "                        continue\n",
        "\n",
        "        # Return a reasonable set of params even if errors out for some reason\n",
        "        return best_params if best_params is not None else (1,1,1)\n",
        "\n",
        "    try:\n",
        "        # Find best parameters using training data\n",
        "        best_params = find_best_arima_params(train_df['historical_vol'])\n",
        "\n",
        "        # Train model with best parameters\n",
        "        # We train on historical vol but predict forward vol\n",
        "        model = ARIMA(train_df['historical_vol'], order=best_params)\n",
        "        arima_model = model.fit()\n",
        "\n",
        "        # Make predictions\n",
        "        # The prediction will be for the next period's volatility\n",
        "        arima_pred = arima_model.forecast(steps=len(test_df))\n",
        "\n",
        "        # Get naive predictions (using last known historical volatility)\n",
        "        naive_pred = test_df['historical_vol']\n",
        "\n",
        "        # Calculate metrics against true forward volatility\n",
        "        results = {\n",
        "            'period': f\"{chunk_df['Date'].min()} to {chunk_df['Date'].max()}\",\n",
        "            'n_samples': len(chunk_df),\n",
        "            'training_samples': len(train_df),\n",
        "            'test_samples': len(test_df),\n",
        "            'arima_params': best_params,\n",
        "            'arima_rmse': np.sqrt(mean_squared_error(test_df['forward_vol'], arima_pred)),\n",
        "            'arima_r2': r2_score(test_df['forward_vol'], arima_pred),\n",
        "            'naive_rmse': np.sqrt(mean_squared_error(test_df['forward_vol'], naive_pred)),\n",
        "            'naive_r2': r2_score(test_df['forward_vol'], naive_pred)\n",
        "        }\n",
        "\n",
        "        return results, arima_model, test_df, arima_pred\n",
        "\n",
        "    except Exception as e:\n",
        "        print(f\"Error fitting ARIMA model: {str(e)}\")\n",
        "        return None"
      ],
      "metadata": {
        "id": "2XL_8FpjFMyv"
      },
      "execution_count": 12,
      "outputs": []
    },
    {
      "cell_type": "markdown",
      "source": [
        "## Running ARIMA"
      ],
      "metadata": {
        "id": "G4QoOmQlFNrD"
      }
    },
    {
      "cell_type": "markdown",
      "source": [
        "As we can see, ARIMA is consistently worse (in terms of RMSE) than XGBoost."
      ],
      "metadata": {
        "id": "yynGnf1jGfSz"
      }
    },
    {
      "cell_type": "code",
      "source": [
        "import warnings\n",
        "warnings.filterwarnings('ignore')\n",
        "\n",
        "# Load data and split into chunks\n",
        "df = pd.read_csv('combined_data.csv')\n",
        "chunks = identify_continuous_chunks(df, max_gap_days=5)\n",
        "\n",
        "# Train and evaluate ARIMA on each chunk\n",
        "arima_results = []\n",
        "for chunk in chunks:\n",
        "    results = train_evaluate_arima_chunk(chunk)\n",
        "    if results is not None:\n",
        "        results, model, test_df, predictions = results\n",
        "        arima_results.append(results)\n",
        "        print(f\"\\nPeriod: {results['period']}\")\n",
        "        print(f\"Samples: {results['n_samples']} (Train: {results['training_samples']}, Test: {results['test_samples']})\")\n",
        "        print(f\"ARIMA Parameters: {results['arima_params']}\")\n",
        "        print(f\"ARIMA RMSE: {results['arima_rmse']:.4f}\")\n",
        "        print(f\"Naive RMSE: {results['naive_rmse']:.4f}\")\n",
        "        print(f\"ARIMA R²: {results['arima_r2']:.4f}\")\n",
        "        print(f\"Naive R²: {results['naive_r2']:.4f}\")"
      ],
      "metadata": {
        "colab": {
          "base_uri": "https://localhost:8080/"
        },
        "id": "a03fEoNfFRbm",
        "outputId": "20ebee35-fd7a-4bbe-c432-c0547737c044"
      },
      "execution_count": 13,
      "outputs": [
        {
          "output_type": "stream",
          "name": "stdout",
          "text": [
            "Split data into 3 continuous chunks:\n",
            "Chunk 0: 2019-05-03 00:00:00 to 2019-08-16 00:00:00, 102 records\n",
            "Chunk 1: 2019-09-04 00:00:00 to 2023-08-10 00:00:00, 1433 records\n",
            "Chunk 2: 2024-03-07 00:00:00 to 2024-11-14 00:00:00, 250 records\n",
            "\n",
            "Period: 2019-05-09 00:00:00 to 2019-08-05 00:00:00\n",
            "Samples: 89 (Train: 71, Test: 18)\n",
            "ARIMA Parameters: (1, 0, 0)\n",
            "ARIMA RMSE: 0.0289\n",
            "Naive RMSE: 0.0236\n",
            "ARIMA R²: -6.2695\n",
            "Naive R²: -3.8266\n",
            "\n",
            "Period: 2019-09-10 00:00:00 to 2023-08-03 00:00:00\n",
            "Samples: 1420 (Train: 1136, Test: 284)\n",
            "ARIMA Parameters: (1, 0, 2)\n",
            "ARIMA RMSE: 0.0166\n",
            "Naive RMSE: 0.0129\n",
            "ARIMA R²: -1.2065\n",
            "Naive R²: -0.3409\n",
            "\n",
            "Period: 2024-03-13 00:00:00 to 2024-11-07 00:00:00\n",
            "Samples: 237 (Train: 189, Test: 48)\n",
            "ARIMA Parameters: (0, 0, 2)\n",
            "ARIMA RMSE: 0.0201\n",
            "Naive RMSE: 0.0086\n",
            "ARIMA R²: -2.9000\n",
            "Naive R²: 0.2933\n"
          ]
        }
      ]
    },
    {
      "cell_type": "markdown",
      "source": [
        "## Backtesting XGBoost"
      ],
      "metadata": {
        "id": "Uf7EatF1N5O1"
      }
    },
    {
      "cell_type": "markdown",
      "source": [
        "We take care to backtest only on the 20% holdout test data.\n",
        "\n",
        "Not-so-great R^2 paired with high win rates, Sharpe ratio and returns suggest that the strategy is directionally correct even if the model is a bad regressor (notice that we make a trade only if the predicted volatility is full standard deviation in magnitude).\n",
        "\n",
        "The fact that this strategy doesn't perform so well for 2024 could be explained by the lack of training data, plain and simple: ~250 datapoints (of which 40% are val + test) compared to >1000 for the 2019-2023 period.\n",
        "\n",
        "At the same time, these returns should make us highly suspicious: how could a strategy coded up by some a day before a presentation do so well? If said undergrads are so smart, why aren't they rich? Are the economists who came up with the efficient markets hypothesis wrong? No, because we're looking at an absurdly biased dataset: a straddle strategy on a famously volatile set of assets. If this asset class weren't so volatile, we wouldn't even look at it! This was a hypothesis begging to be proved. So, no, our strategy won't beat the market."
      ],
      "metadata": {
        "id": "x_eQCkrMnoKB"
      }
    },
    {
      "cell_type": "code",
      "source": [
        "def train_evaluate_and_backtest_chunk(xgb_config, chunk_df, target_asset='Bitcoin', test_size=0.2,\n",
        "                                    initial_capital=10000, position_size=0.1):\n",
        "    \"\"\"Extends your existing function to include straddle backtesting\"\"\"\n",
        "    # Get everything from your original function\n",
        "    results = train_and_evaluate_chunk(xgb_config, chunk_df, target_asset, test_size)\n",
        "    if results is None:\n",
        "        return None\n",
        "\n",
        "    results, base_model, enhanced_model, test_df = results\n",
        "\n",
        "    # Get the feature columns used for the base model (excluding sentiment)\n",
        "    feature_cols = [col for col in test_df.columns\n",
        "                   if not col.endswith('_ForwardVol') and\n",
        "                   not any(x in col.lower() for x in ['sentiment', 'conviction'])]\n",
        "\n",
        "    # Get predictions for test period\n",
        "    base_pred = base_model.predict(test_df[feature_cols])\n",
        "\n",
        "    # Calculate prediction z-score\n",
        "    pred_zscore = pd.Series(base_pred, index=test_df.index).rolling(30, min_periods=1).apply(\n",
        "        lambda x: (x.iloc[-1] - x.mean()) / x.std() if len(x) > 1 else 0\n",
        "    )\n",
        "\n",
        "    # Trading logic\n",
        "    positions = pd.Series(0, index=test_df.index)\n",
        "    threshold = 1.0\n",
        "    positions.loc[pred_zscore > threshold] = 1    # Long straddle when predicted vol is high\n",
        "    positions.loc[pred_zscore < threshold] = -1   # Short straddle when predicted vol is low\n",
        "\n",
        "    # Initialize results tracking\n",
        "    portfolio_value = initial_capital\n",
        "    returns = []\n",
        "    equity_curve = [initial_capital]\n",
        "\n",
        "    # Simulation\n",
        "    for i in range(1, len(positions)):\n",
        "        pos = positions.iloc[i-1]\n",
        "\n",
        "        if pos != 0:\n",
        "            # Calculate return based on actual vs predicted volatility\n",
        "            pred_vol = base_pred[i-1]\n",
        "            actual_vol = test_df[f'{target_asset}_ForwardVol'].iloc[i]\n",
        "\n",
        "            # Simulate straddle PnL\n",
        "            if pos == 1:  # Long straddle\n",
        "                trade_return = (actual_vol - pred_vol) / pred_vol\n",
        "            else:  # Short straddle\n",
        "                trade_return = (pred_vol - actual_vol) / pred_vol\n",
        "\n",
        "            # Apply position sizing\n",
        "            trade_size = portfolio_value * position_size\n",
        "            trade_pnl = trade_size * trade_return\n",
        "\n",
        "            portfolio_value += trade_pnl\n",
        "            returns.append(trade_return)\n",
        "        else:\n",
        "            returns.append(0)\n",
        "\n",
        "        equity_curve.append(portfolio_value)\n",
        "\n",
        "    # Add trading metrics to results\n",
        "    returns = pd.Series(returns)\n",
        "    results.update({\n",
        "        'strategy_return': (portfolio_value - initial_capital) / initial_capital,\n",
        "        'sharpe_ratio': np.sqrt(252) * returns.mean() / returns.std() if len(returns) > 0 and returns.std() > 0 else 0,\n",
        "        'max_drawdown': min(0, min(equity_curve) - initial_capital) / initial_capital,\n",
        "        'equity_curve': equity_curve,\n",
        "        'win_rate': len(returns[returns > 0]) / len(returns[returns != 0]) if len(returns[returns != 0]) > 0 else 0\n",
        "    })\n",
        "\n",
        "    return results, base_model, enhanced_model, test_df, equity_curve\n",
        "\n",
        "# Run the analysis on all chunks\n",
        "all_results = []\n",
        "for chunk in chunks:\n",
        "    full_results = train_evaluate_and_backtest_chunk(XGBConfig, chunk)\n",
        "    if full_results is not None:\n",
        "        results, base_model, enhanced_model, test_df, equity_curve = full_results\n",
        "        all_results.append(results)\n",
        "\n",
        "        print(f\"\\nPeriod: {results['period']}\")\n",
        "        print(f\"Base Model Metrics:\")\n",
        "        print(f\"RMSE: {results['base_rmse']:.4f}\")\n",
        "        print(f\"R²: {results['base_r2']:.4f}\")\n",
        "        print(f\"\\nTrading Strategy Metrics:\")\n",
        "        print(f\"Total Return: {results['strategy_return']:.2%}\")\n",
        "        print(f\"Sharpe Ratio: {results['sharpe_ratio']:.2f}\")\n",
        "        print(f\"Max Drawdown: {results['max_drawdown']:.2%}\")\n",
        "        print(f\"Win Rate: {results['win_rate']:.2%}\")\n",
        "\n",
        "        # Plot equity curve for this chunk\n",
        "        plt.figure(figsize=(12, 6))\n",
        "        plt.plot(equity_curve)\n",
        "        plt.title(f'Strategy Equity Curve - {results[\"period\"]}')\n",
        "        plt.xlabel('Days')\n",
        "        plt.ylabel('Portfolio Value')\n",
        "        plt.grid(True)\n",
        "        plt.show()"
      ],
      "metadata": {
        "colab": {
          "base_uri": "https://localhost:8080/",
          "height": 1000
        },
        "id": "8feTyo47N7ul",
        "outputId": "e7db234d-1b76-4913-f1b9-1c54536c0c26"
      },
      "execution_count": 14,
      "outputs": [
        {
          "output_type": "stream",
          "name": "stdout",
          "text": [
            "\n",
            "Period: 2019-05-03 00:00:00 to 2019-08-16 00:00:00\n",
            "Base Model Metrics:\n",
            "RMSE: 0.0093\n",
            "R²: 0.5750\n",
            "\n",
            "Trading Strategy Metrics:\n",
            "Total Return: 18.45%\n",
            "Sharpe Ratio: 8.36\n",
            "Max Drawdown: -1.33%\n",
            "Win Rate: 62.50%\n"
          ]
        },
        {
          "output_type": "display_data",
          "data": {
            "text/plain": [
              "<Figure size 1200x600 with 1 Axes>"
            ],
            "image/png": "[encoded data removed]"
          },
          "metadata": {}
        },
        {
          "output_type": "stream",
          "name": "stdout",
          "text": [
            "\n",
            "Period: 2019-09-04 00:00:00 to 2023-08-10 00:00:00\n",
            "Base Model Metrics:\n",
            "RMSE: 0.0150\n",
            "R²: -0.8413\n",
            "\n",
            "Trading Strategy Metrics:\n",
            "Total Return: 4357.47%\n",
            "Sharpe Ratio: 5.09\n",
            "Max Drawdown: -23.16%\n",
            "Win Rate: 71.28%\n"
          ]
        },
        {
          "output_type": "display_data",
          "data": {
            "text/plain": [
              "<Figure size 1200x600 with 1 Axes>"
            ],
            "image/png": "[encoded data removed]"
          },
          "metadata": {}
        },
        {
          "output_type": "stream",
          "name": "stdout",
          "text": [
            "\n",
            "Period: 2024-03-07 00:00:00 to 2024-11-14 00:00:00\n",
            "Base Model Metrics:\n",
            "RMSE: 0.0120\n",
            "R²: -1.4263\n",
            "\n",
            "Trading Strategy Metrics:\n",
            "Total Return: 69.32%\n",
            "Sharpe Ratio: 4.99\n",
            "Max Drawdown: 0.00%\n",
            "Win Rate: 65.22%\n"
          ]
        },
        {
          "output_type": "display_data",
          "data": {
            "text/plain": [
              "<Figure size 1200x600 with 1 Axes>"
            ],
            "image/png": "[encoded data removed]"
          },
          "metadata": {}
        }
      ]
    },
    {
      "cell_type": "code",
      "source": [
        "XGBConfig"
      ],
      "metadata": {
        "colab": {
          "base_uri": "https://localhost:8080/"
        },
        "id": "ZjTlH6VbN-zL",
        "outputId": "2d6cb2b2-b818-4094-d8dd-fee7bcd3f401"
      },
      "execution_count": 15,
      "outputs": [
        {
          "output_type": "execute_result",
          "data": {
            "text/plain": [
              "{'n_estimators': 417,\n",
              " 'learning_rate': 0.09460742861521948,\n",
              " 'max_depth': 9,\n",
              " 'min_child_weight': 1,\n",
              " 'subsample': 0.9556431030366573,\n",
              " 'colsample_bytree': 0.5178785457560915,\n",
              " 'random_state': 42}"
            ]
          },
          "metadata": {},
          "execution_count": 15
        }
      ]
    }
  ]
}